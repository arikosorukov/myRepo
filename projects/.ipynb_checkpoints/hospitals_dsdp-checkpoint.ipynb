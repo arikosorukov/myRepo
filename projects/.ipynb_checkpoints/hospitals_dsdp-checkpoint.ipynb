{
 "cells": [
  {
   "cell_type": "code",
   "execution_count": 10,
   "metadata": {
    "ExecuteTime": {
     "end_time": "2023-10-06T04:52:27.650766300Z",
     "start_time": "2023-10-06T04:52:27.566916400Z"
    }
   },
   "outputs": [],
   "source": [
    "import pandas as pd\n",
    "pd.set_option('display.max_colwidth', None)\n",
    "\n",
    "hospital_data = pd.read_csv('Data/imi_results.csv', encoding=\"ISO-8859-1\")"
   ]
  },
  {
   "cell_type": "code",
   "execution_count": 11,
   "metadata": {
    "ExecuteTime": {
     "end_time": "2023-10-06T04:52:32.659023500Z",
     "start_time": "2023-10-06T04:52:32.652112Z"
    }
   },
   "outputs": [
    {
     "data": {
      "text/html": [
       "<div>\n",
       "<style scoped>\n",
       "    .dataframe tbody tr th:only-of-type {\n",
       "        vertical-align: middle;\n",
       "    }\n",
       "\n",
       "    .dataframe tbody tr th {\n",
       "        vertical-align: top;\n",
       "    }\n",
       "\n",
       "    .dataframe thead th {\n",
       "        text-align: right;\n",
       "    }\n",
       "</style>\n",
       "<table border=\"1\" class=\"dataframe\">\n",
       "  <thead>\n",
       "    <tr style=\"text-align: right;\">\n",
       "      <th></th>\n",
       "      <th>YEAR</th>\n",
       "      <th>COUNTY</th>\n",
       "      <th>HOSPITAL</th>\n",
       "      <th>OSHPDID</th>\n",
       "      <th>Procedure/Condition</th>\n",
       "      <th>Risk Adjuested Mortality Rate</th>\n",
       "      <th># of Deaths</th>\n",
       "      <th># of Cases</th>\n",
       "      <th>Hospital Ratings</th>\n",
       "      <th>LONGITUDE</th>\n",
       "      <th>LATITUDE</th>\n",
       "    </tr>\n",
       "  </thead>\n",
       "  <tbody>\n",
       "    <tr>\n",
       "      <th>0</th>\n",
       "      <td>2016</td>\n",
       "      <td>AAAA</td>\n",
       "      <td>STATEWIDE</td>\n",
       "      <td>NaN</td>\n",
       "      <td>AAA Repair Unruptured</td>\n",
       "      <td>1.3</td>\n",
       "      <td>30</td>\n",
       "      <td>2358</td>\n",
       "      <td>NaN</td>\n",
       "      <td>NaN</td>\n",
       "      <td>NaN</td>\n",
       "    </tr>\n",
       "    <tr>\n",
       "      <th>1</th>\n",
       "      <td>2016</td>\n",
       "      <td>AAAA</td>\n",
       "      <td>STATEWIDE</td>\n",
       "      <td>NaN</td>\n",
       "      <td>AMI</td>\n",
       "      <td>6.1</td>\n",
       "      <td>3178</td>\n",
       "      <td>52167</td>\n",
       "      <td>NaN</td>\n",
       "      <td>NaN</td>\n",
       "      <td>NaN</td>\n",
       "    </tr>\n",
       "    <tr>\n",
       "      <th>2</th>\n",
       "      <td>2016</td>\n",
       "      <td>AAAA</td>\n",
       "      <td>STATEWIDE</td>\n",
       "      <td>NaN</td>\n",
       "      <td>Acute Stroke</td>\n",
       "      <td>9.1</td>\n",
       "      <td>5482</td>\n",
       "      <td>60184</td>\n",
       "      <td>NaN</td>\n",
       "      <td>NaN</td>\n",
       "      <td>NaN</td>\n",
       "    </tr>\n",
       "    <tr>\n",
       "      <th>3</th>\n",
       "      <td>2016</td>\n",
       "      <td>AAAA</td>\n",
       "      <td>STATEWIDE</td>\n",
       "      <td>NaN</td>\n",
       "      <td>Acute Stroke Hemorrhagic</td>\n",
       "      <td>21.1</td>\n",
       "      <td>2580</td>\n",
       "      <td>12210</td>\n",
       "      <td>NaN</td>\n",
       "      <td>NaN</td>\n",
       "      <td>NaN</td>\n",
       "    </tr>\n",
       "    <tr>\n",
       "      <th>4</th>\n",
       "      <td>2016</td>\n",
       "      <td>AAAA</td>\n",
       "      <td>STATEWIDE</td>\n",
       "      <td>NaN</td>\n",
       "      <td>Acute Stroke Ischemic</td>\n",
       "      <td>5</td>\n",
       "      <td>2258</td>\n",
       "      <td>45141</td>\n",
       "      <td>NaN</td>\n",
       "      <td>NaN</td>\n",
       "      <td>NaN</td>\n",
       "    </tr>\n",
       "  </tbody>\n",
       "</table>\n",
       "</div>"
      ],
      "text/plain": [
       "   YEAR COUNTY   HOSPITAL  OSHPDID       Procedure/Condition  \\\n",
       "0  2016   AAAA  STATEWIDE      NaN     AAA Repair Unruptured   \n",
       "1  2016   AAAA  STATEWIDE      NaN                       AMI   \n",
       "2  2016   AAAA  STATEWIDE      NaN              Acute Stroke   \n",
       "3  2016   AAAA  STATEWIDE      NaN  Acute Stroke Hemorrhagic   \n",
       "4  2016   AAAA  STATEWIDE      NaN     Acute Stroke Ischemic   \n",
       "\n",
       "  Risk Adjuested Mortality Rate # of Deaths # of Cases Hospital Ratings  \\\n",
       "0                           1.3          30       2358              NaN   \n",
       "1                           6.1        3178      52167              NaN   \n",
       "2                           9.1        5482      60184              NaN   \n",
       "3                          21.1        2580      12210              NaN   \n",
       "4                             5        2258      45141              NaN   \n",
       "\n",
       "  LONGITUDE LATITUDE  \n",
       "0       NaN      NaN  \n",
       "1       NaN      NaN  \n",
       "2       NaN      NaN  \n",
       "3       NaN      NaN  \n",
       "4       NaN      NaN  "
      ]
     },
     "execution_count": 11,
     "metadata": {},
     "output_type": "execute_result"
    }
   ],
   "source": [
    "hospital_data.head()"
   ]
  },
  {
   "cell_type": "code",
   "execution_count": 12,
   "metadata": {
    "ExecuteTime": {
     "end_time": "2023-10-06T04:53:15.304811600Z",
     "start_time": "2023-10-06T04:53:15.292288200Z"
    }
   },
   "outputs": [
    {
     "data": {
      "text/plain": [
       "COUNTY\n",
       "Los Angeles        12932\n",
       "Orange              3722\n",
       "San Bernardino      2822\n",
       "Riverside           2726\n",
       "San Diego           2504\n",
       "Alameda             1950\n",
       "San Francisco       1688\n",
       "Kern                1660\n",
       "Santa Clara         1494\n",
       "Sacramento          1328\n",
       "Ventura             1162\n",
       "San Joaquin         1162\n",
       "Contra Costa        1162\n",
       "Sonoma              1134\n",
       "Fresno              1024\n",
       "San Mateo            996\n",
       "Santa Barbara        830\n",
       "San Luis Obispo      664\n",
       "Monterey             664\n",
       "Solano               664\n",
       "Stanislaus           664\n",
       "Humboldt             650\n",
       "Butte                594\n",
       "Marin                498\n",
       "Placer               498\n",
       "Tulare               498\n",
       "Plumas               498\n",
       "Shasta               498\n",
       "Mendocino            498\n",
       "Napa                 332\n",
       "Lake                 332\n",
       "Imperial             332\n",
       "Siskiyou             332\n",
       "Santa Cruz           332\n",
       "El Dorado            332\n",
       "Merced               332\n",
       "Yolo                 332\n",
       "Nevada               332\n",
       "Inyo                 254\n",
       "Tehama               166\n",
       "Trinity              166\n",
       "Tuolumne             166\n",
       "AAAA                 166\n",
       "San Benito           166\n",
       "Mono                 166\n",
       "Modoc                166\n",
       "Mariposa             166\n",
       "Madera               166\n",
       "Lassen               166\n",
       "Kings                166\n",
       "Glenn                166\n",
       "Del Norte            166\n",
       "Calaveras            166\n",
       "Amador               166\n",
       "Yuba                 166\n",
       "Colusa               134\n",
       "Name: count, dtype: int64"
      ]
     },
     "execution_count": 12,
     "metadata": {},
     "output_type": "execute_result"
    }
   ],
   "source": [
    "hospital_data['COUNTY'].value_counts()"
   ]
  },
  {
   "cell_type": "code",
   "execution_count": 13,
   "metadata": {},
   "outputs": [
    {
     "data": {
      "text/plain": [
       "Procedure/Condition\n",
       "Heart Failure                 3526\n",
       "Acute Stroke                  3526\n",
       "Acute Stroke Hemorrhagic      3526\n",
       "Acute Stroke Ischemic         3526\n",
       "Acute Stroke Subarachnoid     3526\n",
       "Carotid Endarterectomy        3526\n",
       "Pneumonia                     3526\n",
       "GI Hemorrhage                 3526\n",
       "AMI                           3526\n",
       "Hip Fracture                  3526\n",
       "PCI                           3526\n",
       "Pancreatic Resection          3526\n",
       "Pancreatic Other              1926\n",
       "AAA Repair Unruptured         1926\n",
       "Pancreatic Cancer             1926\n",
       "Espophageal Resection         1926\n",
       "AAA Repair Endo Unruptured    1600\n",
       "AAA Repair Open Unruptured    1600\n",
       "Name: count, dtype: int64"
      ]
     },
     "execution_count": 13,
     "metadata": {},
     "output_type": "execute_result"
    }
   ],
   "source": [
    "hospital_data['Procedure/Condition'].value_counts()"
   ]
  },
  {
   "cell_type": "code",
   "execution_count": null,
   "metadata": {},
   "outputs": [],
   "source": []
  }
 ],
 "metadata": {
  "kernelspec": {
   "display_name": "Python 3 (ipykernel)",
   "language": "python",
   "name": "python3"
  },
  "language_info": {
   "codemirror_mode": {
    "name": "ipython",
    "version": 3
   },
   "file_extension": ".py",
   "mimetype": "text/x-python",
   "name": "python",
   "nbconvert_exporter": "python",
   "pygments_lexer": "ipython3",
   "version": "3.10.13"
  }
 },
 "nbformat": 4,
 "nbformat_minor": 1
}
